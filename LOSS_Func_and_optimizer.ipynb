{
 "cells": [
  {
   "cell_type": "code",
   "execution_count": null,
   "id": "90b2aef1-751a-4ad9-b837-15185065bcf6",
   "metadata": {},
   "outputs": [],
   "source": [
    "import numpy as np\n",
    "\n",
    "# Mean Squared Error (MSE)\n",
    "def mse(y_true, y_pred):\n",
    "    return np.mean((y_true - y_pred) ** 2)\n",
    "\n",
    "# Mean Absolute Error (MAE)\n",
    "def mae(y_true, y_pred):\n",
    "    return np.mean(np.abs(y_true - y_pred))\n",
    "\n",
    "# Binary Cross-Entropy Loss\n",
    "def binary_cross_entropy(y_true, y_pred, eps=1e-15):\n",
    "    y_pred = np.clip(y_pred, eps, 1 - eps)  # avoid log(0)\n",
    "    return -np.mean(y_true * np.log(y_pred) + (1 - y_true) * np.log(1 - y_pred))\n",
    "\n",
    "# Hinge Loss\n",
    "def hinge_loss(y_true, y_pred):\n",
    "    y_true = np.where(y_true <= 0, -1, 1)  # ensure targets are -1 or 1\n",
    "    return np.mean(np.maximum(0, 1 - y_true * y_pred))\n",
    "\n",
    "# --- Example Data ---\n",
    "\n",
    "# Regression example (continuous values)\n",
    "y_true_reg = np.array([3.0, -0.5, 2.0, 7.0])\n",
    "y_pred_reg = np.array([2.5, 0.0, 2.1, 7.8])\n",
    "\n",
    "# Binary classification example (labels: 0 or 1)\n",
    "y_true_bin = np.array([1, 0, 1, 0])\n",
    "y_pred_bin = np.array([0.9, 0.2, 0.8, 0.1])  # predicted probabilities\n",
    "\n",
    "# Hinge classification example (labels: -1 or 1)\n",
    "y_true_hinge = np.array([1, -1, 1, -1])\n",
    "y_pred_hinge = np.array([0.8, -0.5, 0.6, -0.2])\n",
    "\n",
    "# --- Loss Calculations ---\n",
    "print(\"MSE:\", mse(y_true_reg, y_pred_reg))\n",
    "print(\"MAE:\", mae(y_true_reg, y_pred_reg))\n",
    "print(\"Binary Cross-Entropy:\", binary_cross_entropy(y_true_bin, y_pred_bin))\n",
    "print(\"Hinge Loss:\", hinge_loss(y_true_hinge, y_pred_hinge))\n"
   ]
  },
  {
   "cell_type": "raw",
   "id": "e3512573-132b-430a-990f-bba5315ce903",
   "metadata": {},
   "source": [
    "📊 Summary Table\n",
    "Loss Function\tUse Case\tSensitive to Outliers\tProbabilistic?\tSmooth Gradients\n",
    "MSE\tRegression\tYes\tNo\tYes\n",
    "MAE\tRegression\tNo\tNo\tNo\n",
    "Cross-Entropy\tClassification\tYes\tYes\tYes\n",
    "Hinge\tClassification\tNo\tNo\tNo"
   ]
  }
 ],
 "metadata": {
  "kernelspec": {
   "display_name": "Python 3 (ipykernel)",
   "language": "python",
   "name": "python3"
  },
  "language_info": {
   "codemirror_mode": {
    "name": "ipython",
    "version": 3
   },
   "file_extension": ".py",
   "mimetype": "text/x-python",
   "name": "python",
   "nbconvert_exporter": "python",
   "pygments_lexer": "ipython3",
   "version": "3.11.11"
  }
 },
 "nbformat": 4,
 "nbformat_minor": 5
}
