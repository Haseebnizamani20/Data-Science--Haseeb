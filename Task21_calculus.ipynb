{
 "cells": [
  {
   "cell_type": "markdown",
   "id": "302ab09b-7c00-43fa-ab7a-855cc52f41a5",
   "metadata": {},
   "source": [
    "# Forward, Backward, Central Difference"
   ]
  },
  {
   "cell_type": "code",
   "execution_count": 5,
   "id": "043c2344-58b3-4e23-b65d-5759a815e7df",
   "metadata": {},
   "outputs": [
    {
     "name": "stdout",
     "output_type": "stream",
     "text": [
      "Forward: 1.9999999999908977\n",
      "Backward: 1.9999999999908977\n",
      "Central: 1.9999999999908977\n"
     ]
    }
   ],
   "source": [
    "import numpy as np\n",
    "\n",
    "def f(x):\n",
    "    return x*2\n",
    "    \n",
    "def forward_diff(f, x, h=1e-5):\n",
    "    return (f(x + h) - f(x)) / h\n",
    "\n",
    "def backward_diff(f, x, h=1e-5):\n",
    "    return (f(x) - f(x - h)) / h\n",
    "\n",
    "def central_diff(f, x, h=1e-5):\n",
    "    return (f(x + h) - f(x - h)) / (2 * h)\n",
    "\n",
    "x_val = np.pi / 4\n",
    "print(\"Forward:\", forward_diff(f, x_val))\n",
    "print(\"Backward:\", backward_diff(f, x_val))\n",
    "print(\"Central:\", central_diff(f, x_val))\n"
   ]
  },
  {
   "cell_type": "markdown",
   "id": "23bac19a-2bd1-4571-835b-5c1d0a6a8b02",
   "metadata": {},
   "source": [
    "# trapezoiod and simson"
   ]
  },
  {
   "cell_type": "code",
   "execution_count": 9,
   "id": "03d6f728-386c-41a4-aa06-7f7708ee5ee8",
   "metadata": {},
   "outputs": [
    {
     "name": "stdout",
     "output_type": "stream",
     "text": [
      "Trapezoidal: 0.7468180014679701\n",
      "Simpson's: 0.7468241328941763\n"
     ]
    }
   ],
   "source": [
    "def f(x):\n",
    "    return np.exp(-x**2)\n",
    "\n",
    "def trapezoidal_rule(f, a, b, n):\n",
    "    x = np.linspace(a, b, n+1) #this means start from a till b with jump of \n",
    "    y = f(x)\n",
    "    h = (b - a) / n\n",
    "    return (h/2) * (y[0] + 2 * np.sum(y[1:n]) + y[n])\n",
    "\n",
    "def simpsons_rule(f, a, b, n):\n",
    "    if n % 2 == 1:\n",
    "        n += 1  # Simpson's rule requires even number of intervals\n",
    "    x = np.linspace(a, b, n+1)\n",
    "    y = f(x)\n",
    "    h = (b - a) / n\n",
    "    return (h/3) * (y[0] + 4 * np.sum(y[1:n:2]) + 2 * np.sum(y[2:n-1:2]) + y[n])\n",
    "\n",
    "a, b = 0, 1\n",
    "print(\"Trapezoidal:\", trapezoidal_rule(f, a, b, 100))\n",
    "print(\"Simpson's:\", simpsons_rule(f, a, b, 100))\n"
   ]
  },
  {
   "cell_type": "code",
   "execution_count": null,
   "id": "68f8c96b-4dbe-4c45-ba07-a5fcfad08bb8",
   "metadata": {},
   "outputs": [],
   "source": [
    "def f(x, y):\n",
    "    return x**2 + y**2\n",
    "\n",
    "def partial_x(f, x, y, h=1e-5):\n",
    "    return (f(x + h, y) - f(x - h, y)) / (2 * h)\n",
    "\n",
    "def partial_y(f, x, y, h=1e-5):\n",
    "    return (f(x, y + h) - f(x, y - h)) / (2 * h)\n",
    "\n",
    "x_val, y_val = 1.0, 2.0\n",
    "print(\"∂f/∂x:\", partial_x(f, x_val, y_val))\n",
    "print(\"∂f/∂y:\", partial_y(f, x_val, y_val))\n"
   ]
  },
  {
   "cell_type": "code",
   "execution_count": null,
   "id": "f46a8960-b976-42d5-a2c2-3a80f35f5484",
   "metadata": {},
   "outputs": [],
   "source": []
  },
  {
   "cell_type": "markdown",
   "id": "711263de-0d7a-404c-a48b-180703b6c3d3",
   "metadata": {},
   "source": [
    "# Optimization with Constraints (using SciPy)\n",
    "this means that if a function is given and limit of x and y is given \n",
    "so we will find that where the minmim value of the fucntion "
   ]
  },
  {
   "cell_type": "code",
   "execution_count": 14,
   "id": "863c61cb-e05d-403b-8c72-8d5c91dc6c10",
   "metadata": {},
   "outputs": [
    {
     "name": "stdout",
     "output_type": "stream",
     "text": [
      "Optimized x: [0.5 0.5]\n",
      "Objective value: 0.5\n"
     ]
    }
   ],
   "source": [
    "from scipy.optimize import minimize\n",
    "\n",
    "def objective(x):\n",
    "    return x[0]**2 + x[1]**2\n",
    "\n",
    "def constraint(x):\n",
    "    return x[0] + x[1] - 1\n",
    "\n",
    "con = {'type': 'eq', 'fun': constraint}\n",
    "x0 = [0, 0]\n",
    "result = minimize(objective, x0, constraints=con)\n",
    "\n",
    "print(\"Optimized x:\", result.x)\n",
    "print(\"Objective value:\", result.fun)\n"
   ]
  }
 ],
 "metadata": {
  "kernelspec": {
   "display_name": "Python 3 (ipykernel)",
   "language": "python",
   "name": "python3"
  },
  "language_info": {
   "codemirror_mode": {
    "name": "ipython",
    "version": 3
   },
   "file_extension": ".py",
   "mimetype": "text/x-python",
   "name": "python",
   "nbconvert_exporter": "python",
   "pygments_lexer": "ipython3",
   "version": "3.12.7"
  }
 },
 "nbformat": 4,
 "nbformat_minor": 5
}
