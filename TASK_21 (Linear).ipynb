{
 "cells": [
  {
   "cell_type": "markdown",
   "id": "cd3e3260-c9cf-4647-9848-6f5cb6f8bb9d",
   "metadata": {},
   "source": [
    "OUTCOMES :\n",
    "Defining a matrix\n",
    "idenenty zero one matrix \n",
    "addition multiplication substraction \n",
    "transpose determinant\n",
    "decompostion of a matrix into lower and upper \n",
    "solving a equation using scipy.linalg.solve function"
   ]
  },
  {
   "cell_type": "code",
   "execution_count": 5,
   "id": "325c1cd6-1079-4460-9f1e-0ea210d0c88f",
   "metadata": {},
   "outputs": [],
   "source": [
    "import numpy as np\n"
   ]
  },
  {
   "cell_type": "code",
   "execution_count": 21,
   "id": "297eff70-62dd-4fa9-a929-b7576255aa18",
   "metadata": {},
   "outputs": [
    {
     "name": "stdout",
     "output_type": "stream",
     "text": [
      "[[1 2 3]\n",
      " [4 5 6]\n",
      " [7 8 9]]\n",
      "[[0. 0.]\n",
      " [0. 0.]]\n"
     ]
    }
   ],
   "source": [
    "matrix = np.array([  [1,2,3],[4,5,6],[7,8,9]  ])\n",
    "print(matrix)"
   ]
  },
  {
   "cell_type": "markdown",
   "id": "dc6e24f0-b413-4eea-b9b5-be3edcdde6c0",
   "metadata": {},
   "source": [
    "IDENTITY ZERO AND ONE MATRIX"
   ]
  },
  {
   "cell_type": "code",
   "execution_count": 33,
   "id": "4eba2f02-7815-4106-9f0b-6bed56ea8c06",
   "metadata": {},
   "outputs": [
    {
     "name": "stdout",
     "output_type": "stream",
     "text": [
      "[[1. 1.]\n",
      " [1. 1.]]\n",
      "[[0. 0.]\n",
      " [0. 0.]]\n",
      "[[1. 0. 0. 0.]\n",
      " [0. 1. 0. 0.]\n",
      " [0. 0. 1. 0.]\n",
      " [0. 0. 0. 1.]]\n"
     ]
    }
   ],
   "source": [
    "matrix2=np.ones((2,2))\n",
    "print(matrix2)\n",
    "\n",
    "\n",
    "matrix3=np.zeros((2,2))\n",
    "print(matrix3)\n",
    "\n",
    "\n",
    "matrix4=np.eye(4) //only one parameter needed as at is identity\n",
    "\n",
    "print(matrix4)"
   ]
  },
  {
   "cell_type": "markdown",
   "id": "e07a57ed-44de-446f-855c-951b3ee2ac5c",
   "metadata": {},
   "source": [
    "MULTIPLICATIN ADDITION AND SUBSTRACTION "
   ]
  },
  {
   "cell_type": "code",
   "execution_count": 57,
   "id": "9180c760-b80d-405f-8b81-7bc5d87d72ce",
   "metadata": {},
   "outputs": [
    {
     "name": "stdout",
     "output_type": "stream",
     "text": [
      "[[2. 2.]\n",
      " [2. 2.]]\n",
      "[[1. 1.]\n",
      " [1. 1.]]\n"
     ]
    }
   ],
   "source": [
    "new=matrix2+matrix2\n",
    "print(new)\n",
    "\n",
    "new2=matrix2*matrix2\n",
    "print(new2)\n",
    "\n"
   ]
  },
  {
   "cell_type": "raw",
   "id": "c21ee03e-8fc9-4824-83a6-c1884d7aa35c",
   "metadata": {},
   "source": [
    "TRANSPOSE OF A MATRIX AND DETERMINANT"
   ]
  },
  {
   "cell_type": "code",
   "execution_count": 83,
   "id": "2ebc4a38-f044-4cb4-80e9-527254bda864",
   "metadata": {},
   "outputs": [
    {
     "name": "stdout",
     "output_type": "stream",
     "text": [
      "[[1 2 3]\n",
      " [4 5 6]]\n",
      "[[1 4]\n",
      " [2 5]\n",
      " [3 6]]\n"
     ]
    }
   ],
   "source": [
    "new=np.array([[1,2,3],[4,5,6]])\n",
    "print(new)\n",
    "\n",
    "newT=new.T\n",
    "print(newT)\n",
    "\n"
   ]
  },
  {
   "cell_type": "markdown",
   "id": "a9fcf5e5-f0c1-4333-aec4-0b1f1120cd6c",
   "metadata": {},
   "source": [
    "DETERMINANT OF A MATIX  ----- LINALG NEW LIBRARY"
   ]
  },
  {
   "cell_type": "code",
   "execution_count": 85,
   "id": "c806d61e-72d3-415e-acea-837d25e2ccc8",
   "metadata": {},
   "outputs": [
    {
     "name": "stdout",
     "output_type": "stream",
     "text": [
      "Determinant: -9.51619735392994e-16\n"
     ]
    }
   ],
   "source": [
    "determinant = np.linalg.det(matrix)\n",
    "print(\"Determinant:\", determinant)"
   ]
  },
  {
   "cell_type": "markdown",
   "id": "6201787c-b625-40ed-b7d8-e85493efc532",
   "metadata": {},
   "source": [
    "INVERSE OF A MATRIX"
   ]
  },
  {
   "cell_type": "code",
   "execution_count": null,
   "id": "d1c3b1a2-be59-4315-982b-ab83ea596cee",
   "metadata": {},
   "outputs": [],
   "source": [
    "inverse = np.linalg.inv(matrix)\n",
    "print(\"Inverse:\\n\", inverse) "
   ]
  },
  {
   "cell_type": "markdown",
   "id": "19a496eb-e2d6-4666-9d31-b51477ea81ae",
   "metadata": {},
   "source": [
    "SOLVING A SYSTEM OF LINEAR EQUATION , for finding X and Y value of a equation"
   ]
  },
  {
   "cell_type": "code",
   "execution_count": 97,
   "id": "318efff1-73c3-4025-b92a-30eb8183f376",
   "metadata": {},
   "outputs": [
    {
     "name": "stdout",
     "output_type": "stream",
     "text": [
      "[-5.   6.5]\n"
     ]
    }
   ],
   "source": [
    "A=np.array([[1,2],[3,4]])\n",
    "B=np.array([8,11])\n",
    "\n",
    "X=np.linalg.solve(A,B)\n",
    "\n",
    "print(X)"
   ]
  },
  {
   "cell_type": "raw",
   "id": "816f6b33-c951-4835-877a-b4b3fa87999c",
   "metadata": {},
   "source": [
    "LU DECOMPOSITION MEANS BREAKING A MATRIX INTO UPPER TRAINGLE AND LOWER TRIANGLE"
   ]
  },
  {
   "cell_type": "code",
   "execution_count": 116,
   "id": "57c28d00-bce4-4a07-8638-a7c4a9aa079e",
   "metadata": {},
   "outputs": [
    {
     "name": "stdout",
     "output_type": "stream",
     "text": [
      "P (Permutation matrix):\n",
      " [[0. 1. 0.]\n",
      " [0. 0. 1.]\n",
      " [1. 0. 0.]]\n",
      "   \n",
      "L (Lower triangular):\n",
      " [[1.         0.         0.        ]\n",
      " [0.14285714 1.         0.        ]\n",
      " [0.57142857 0.5        1.        ]]\n",
      "   \n",
      "U (Upper triangular):\n",
      " [[ 7.00000000e+00  8.00000000e+00  9.00000000e+00]\n",
      " [ 0.00000000e+00  8.57142857e-01  1.71428571e+00]\n",
      " [ 0.00000000e+00  0.00000000e+00 -1.58603289e-16]]\n"
     ]
    }
   ],
   "source": [
    "from scipy.linalg import lu\n",
    "\n",
    "P, L, U = lu(matrix)\n",
    "\n",
    "print(\"P (Permutation matrix):\\n\", P)\n",
    "print(\"   \")\n",
    "print(\"L (Lower triangular):\\n\", L)\n",
    "print(\"   \")\n",
    "print(\"U (Upper triangular):\\n\", U)"
   ]
  },
  {
   "cell_type": "markdown",
   "id": "b8a62edb-bc97-4179-a38e-ab22c0157e90",
   "metadata": {},
   "source": [
    "EIGENVALUES AND EIGEN VECTORS"
   ]
  },
  {
   "cell_type": "code",
   "execution_count": 130,
   "id": "14df03e1-ce72-49a6-b892-43d26e198959",
   "metadata": {},
   "outputs": [
    {
     "name": "stdout",
     "output_type": "stream",
     "text": [
      "Eigenvalues:\n",
      " [ 1.61168440e+01 -1.11684397e+00 -3.38433605e-16]\n",
      "Eigenvectors:\n",
      " [[-0.23197069 -0.78583024  0.40824829]\n",
      " [-0.52532209 -0.08675134 -0.81649658]\n",
      " [-0.8186735   0.61232756  0.40824829]]\n"
     ]
    }
   ],
   "source": [
    "matrix=np.array([[1,2,3],[4,5,6],[7,8,9]])\n",
    "\n",
    "eigenvalues , eigenvectors=np.linalg.eig(matrix)\n",
    "print(\"Eigenvalues:\\n\", eigenvalues)\n",
    "print(\"Eigenvectors:\\n\", eigenvectors)"
   ]
  },
  {
   "cell_type": "markdown",
   "id": "e257b5ef-5ef1-4e45-936a-d01628e64d78",
   "metadata": {},
   "source": [
    "We can reconstruct A using:\n",
    "\n",
    "ini\n",
    "Copy\n",
    "Edit\n",
    "A = V * D * V⁻¹\n",
    "Where:\n",
    "\n",
    "V = matrix of eigenvectors\n",
    "\n",
    "D = diagonal matrix of eigenvalues\n",
    "\n",
    "V⁻¹ = inverse of eigenvector matrix\n",
    "\n",
    "python\n",
    "Copy\n",
    "Edit\n",
    "# Form the diagonal matrix of eigenvalues\n",
    "D = np.diag(eigenvalues)\n",
    "\n",
    "# Inverse of eigenvector matrix\n",
    "V_inv = np.linalg.inv(eigenvectors)\n",
    "\n",
    "# Reconstruct A\n",
    "A_reconstructed = eigenvectors @ D @ V_inv\n",
    "\n",
    "print(\"Reconstructed A:\\n\", A_reconstructed)"
   ]
  },
  {
   "cell_type": "markdown",
   "id": "4efe53ba-bd1b-4c53-95f7-5b5ca7ce1c50",
   "metadata": {},
   "source": [
    "<!-- # Vector  -->"
   ]
  },
  {
   "cell_type": "code",
   "execution_count": null,
   "id": "da6b7dbd-158c-4745-89f0-4a79758ae6ec",
   "metadata": {},
   "outputs": [],
   "source": [
    "# ## Summary\n",
    "# Operation\tCode Example\tResult\n",
    "# Vector Addition\tv1 + v2\t[3, 3, 3]\n",
    "# Dot Product\tnp.dot(v1, v2)\t-2\n",
    "# Cross Product\tnp.cross(v1, v2)\t[-3, 6, -3]\n",
    "# Vector Norm\tnp.linalg.norm(v1)\t~5.385\n",
    "# Normalization\tv1 / np.linalg.norm(v1)\tUnit vector"
   ]
  },
  {
   "cell_type": "markdown",
   "id": "0600b2fe-5d1f-495a-9de5-5da91e368c52",
   "metadata": {},
   "source": [
    "🎯 What PCA does:\n",
    "Centers the data (subtract the mean)\n",
    "\n",
    "Finds the best direction where the data spreads the most → This is the first principal component\n",
    "\n",
    "Projects the data onto that line (reducing 2D → 1D)"
   ]
  },
  {
   "cell_type": "code",
   "execution_count": 141,
   "id": "c558eca1-a2a2-4919-8323-66347f880d0d",
   "metadata": {},
   "outputs": [
    {
     "name": "stdout",
     "output_type": "stream",
     "text": [
      "Original shape: (5, 2)\n",
      "Reduced shape: (5, 1)\n",
      "Transformed data:\n",
      " [[ 0.44362444]\n",
      " [-2.17719404]\n",
      " [ 0.57071239]\n",
      " [-0.12902465]\n",
      " [ 1.29188186]]\n"
     ]
    }
   ],
   "source": [
    "import numpy as np\n",
    "from sklearn.decomposition import PCA\n",
    "\n",
    "# Sample 2D dataset\n",
    "X = np.array([\n",
    "    [2.5, 2.4],\n",
    "    [0.5, 0.7],\n",
    "    [2.2, 2.9],\n",
    "    [1.9, 2.2],\n",
    "    [3.1, 3.0]\n",
    "])\n",
    "\n",
    "# Apply PCA to reduce to 1D\n",
    "pca = PCA(n_components=1)\n",
    "X_pca = pca.fit_transform(X)\n",
    "\n",
    "print(\"Original shape:\", X.shape)\n",
    "print(\"Reduced shape:\", X_pca.shape)\n",
    "print(\"Transformed data:\\n\", X_pca)\n"
   ]
  }
 ],
 "metadata": {
  "kernelspec": {
   "display_name": "Python 3 (ipykernel)",
   "language": "python",
   "name": "python3"
  },
  "language_info": {
   "codemirror_mode": {
    "name": "ipython",
    "version": 3
   },
   "file_extension": ".py",
   "mimetype": "text/x-python",
   "name": "python",
   "nbconvert_exporter": "python",
   "pygments_lexer": "ipython3",
   "version": "3.12.7"
  }
 },
 "nbformat": 4,
 "nbformat_minor": 5
}
