{
 "cells": [
  {
   "cell_type": "markdown",
   "id": "45a72864-f2d4-4abc-b7bc-dbc7876ee103",
   "metadata": {},
   "source": [
    "# CROSS VALIDATION"
   ]
  },
  {
   "cell_type": "code",
   "execution_count": null,
   "id": "60739e22-bc9b-4394-a3a0-f54933114254",
   "metadata": {},
   "outputs": [],
   "source": [
    "Cross validation means dividing the dataset into train and test \n",
    "if there are N-blocks , using N-1 block to train the data and remaining for test\n",
    "then do the iteration for all"
   ]
  },
  {
   "cell_type": "markdown",
   "id": "de4d8c92-33a0-4fdc-883d-49bd5e45d5a3",
   "metadata": {},
   "source": [
    "# OVER FITTING"
   ]
  },
  {
   "cell_type": "markdown",
   "id": "b95d4411-08bc-4042-979d-570a6c2ef81f",
   "metadata": {},
   "source": [
    "OVER FITTING MEANS WHEN THE MODEL IS HIGHLY ACCURATE ON THE TRAINING DATA BUT LESS ACCURATE AT VALIDATION DATA\n",
    "\n",
    "MATLB ye k jo training data pe patterns hote hen wo unko itna acha study krta hy k wo sirf usi ke uper pura andaza lagata he \n",
    "jis se jab naya data aty he tou wo pareshan ho jata he \n"
   ]
  },
  {
   "cell_type": "code",
   "execution_count": null,
   "id": "d2ff0f59-b50e-400f-b0ae-05de95916477",
   "metadata": {},
   "outputs": [],
   "source": []
  }
 ],
 "metadata": {
  "kernelspec": {
   "display_name": "Python 3 (ipykernel)",
   "language": "python",
   "name": "python3"
  },
  "language_info": {
   "codemirror_mode": {
    "name": "ipython",
    "version": 3
   },
   "file_extension": ".py",
   "mimetype": "text/x-python",
   "name": "python",
   "nbconvert_exporter": "python",
   "pygments_lexer": "ipython3",
   "version": "3.12.7"
  }
 },
 "nbformat": 4,
 "nbformat_minor": 5
}
